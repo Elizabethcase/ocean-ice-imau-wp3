{
 "cells": [
  {
   "cell_type": "markdown",
   "source": [
    "# Ocean Ice WP3.2 - Freshwater flux estimate from AIS into Southern Ocean\n",
    "\n",
    "- uses output from three climate models (Hirham, RACMO, MAR)\n",
    "- max: rain + melt + blowing snow\n",
    "- min(?): runoff + blowing snow"
   ],
   "metadata": {
    "collapsed": false
   },
   "id": "2abd10cd23545a40"
  },
  {
   "cell_type": "code",
   "outputs": [],
   "source": [
    "#import dependencies\n",
    "import numpy as np\n",
    "import matplotlib.pyplot as plt\n",
    "import xarray as xr\n",
    "import pandas as pd\n",
    "import cartopy"
   ],
   "metadata": {
    "collapsed": false,
    "ExecuteTime": {
     "end_time": "2024-02-13T10:16:44.947271Z",
     "start_time": "2024-02-13T10:16:43.794653Z"
    }
   },
   "id": "6ece643b84d9215f",
   "execution_count": 1
  },
  {
   "cell_type": "code",
   "outputs": [],
   "source": [
    "# load data\n",
    "\n"
   ],
   "metadata": {
    "collapsed": false
   },
   "id": "f61f256208c8e93c"
  }
 ],
 "metadata": {
  "kernelspec": {
   "display_name": "Python 3",
   "language": "python",
   "name": "python3"
  },
  "language_info": {
   "codemirror_mode": {
    "name": "ipython",
    "version": 2
   },
   "file_extension": ".py",
   "mimetype": "text/x-python",
   "name": "python",
   "nbconvert_exporter": "python",
   "pygments_lexer": "ipython2",
   "version": "2.7.6"
  }
 },
 "nbformat": 4,
 "nbformat_minor": 5
}
